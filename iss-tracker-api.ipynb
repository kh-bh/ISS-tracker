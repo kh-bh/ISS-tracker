{
 "cells": [
  {
   "cell_type": "code",
   "execution_count": 1,
   "metadata": {},
   "outputs": [],
   "source": [
    "#import required packages\n",
    "\n",
    "# JSON\n",
    "import json \n",
    "# Turtle - Creating designs and images\n",
    "import turtle  \n",
    "# Fetching URLs\n",
    "import urllib.request  \n",
    "# time\n",
    "import time  \n",
    "# opening URLS\n",
    "import webbrowser  \n",
    "# latitude and longitude\n",
    "import geocoder"
   ]
  },
  {
   "cell_type": "code",
   "execution_count": 2,
   "metadata": {},
   "outputs": [
    {
     "name": "stdout",
     "output_type": "stream",
     "text": [
      "{'people': [{'craft': 'ISS', 'name': 'Oleg Kononenko'}, {'craft': 'ISS', 'name': 'Nikolai Chub'}, {'craft': 'ISS', 'name': 'Tracy Caldwell Dyson'}, {'craft': 'ISS', 'name': 'Matthew Dominick'}, {'craft': 'ISS', 'name': 'Michael Barratt'}, {'craft': 'ISS', 'name': 'Jeanette Epps'}, {'craft': 'ISS', 'name': 'Alexander Grebenkin'}, {'craft': 'ISS', 'name': 'Butch Wilmore'}, {'craft': 'ISS', 'name': 'Sunita Williams'}, {'craft': 'Tiangong', 'name': 'Li Guangsu'}, {'craft': 'Tiangong', 'name': 'Li Cong'}, {'craft': 'Tiangong', 'name': 'Ye Guangfu'}], 'number': 12, 'message': 'success'}\n"
     ]
    }
   ],
   "source": [
    "#Open the API and find certain data (who is on the ISS right now)\n",
    "url = \"http://api.open-notify.org/astros.json\"\n",
    "response = urllib.request.urlopen(url)\n",
    "result = json.loads(response.read())\n",
    "print(result)"
   ]
  },
  {
   "cell_type": "code",
   "execution_count": 3,
   "metadata": {},
   "outputs": [],
   "source": [
    "#Open a new text file\n",
    "file = open(\"iss.txt\", \"w\")\n",
    "\n",
    "#Write how many members are on the ISS right now\n",
    "file.write(\n",
    "    \"There are currently \" + str(result[\"number\"]) +\n",
    "    \" astronauts on the ISS: \\n\\n\"\n",
    ")\n",
    "\n",
    "#Write who each of the people on the ISS are\n",
    "people = result[\"people\"]\n",
    "for p in people:\n",
    "    file.write(p['name'] + \" - on board\" + \"\\n\")"
   ]
  },
  {
   "cell_type": "code",
   "execution_count": 4,
   "metadata": {},
   "outputs": [
    {
     "data": {
      "text/plain": [
       "True"
      ]
     },
     "execution_count": 4,
     "metadata": {},
     "output_type": "execute_result"
    }
   ],
   "source": [
    "# print long and lat of me in text file \n",
    "g = geocoder.ip('me')\n",
    "file.write(\"\\nYour current lat / long is: \" + str(g.latlng))\n",
    "\n",
    "#Close text file (no changes until relaunch)\n",
    "file.close()\n",
    "webbrowser.open(\"iss.txt\")"
   ]
  },
  {
   "cell_type": "code",
   "execution_count": 5,
   "metadata": {},
   "outputs": [],
   "source": [
    "# Setup the world map in turtle module\n",
    "screen = turtle.Screen()\n",
    "screen.setup(1280, 720)\n",
    "screen.setworldcoordinates(-180, -90, 180, 90)"
   ]
  },
  {
   "cell_type": "code",
   "execution_count": 6,
   "metadata": {},
   "outputs": [],
   "source": [
    "# Load the world map image\n",
    "screen.bgpic(\"images/britannica_map.gif\")\n",
    "screen.register_shape(\"images/iss.gif\")\n",
    "iss = turtle.Turtle()\n",
    "iss.shape(\"images/iss.gif\")\n",
    "iss.setheading(45)\n",
    "iss.penup()"
   ]
  },
  {
   "cell_type": "code",
   "execution_count": 7,
   "metadata": {},
   "outputs": [],
   "source": [
    "# load the current status of the ISS in real-time\n",
    "url = \"http://api.open-notify.org/iss-now.json\"\n",
    "response = urllib.request.urlopen(url)\n",
    "result = json.loads(response.read())"
   ]
  },
  {
   "cell_type": "code",
   "execution_count": 8,
   "metadata": {},
   "outputs": [],
   "source": [
    "# Extract the ISS location\n",
    "location = result[\"iss_position\"]\n",
    "lat = location['latitude']\n",
    "lon = location['longitude']"
   ]
  },
  {
   "cell_type": "code",
   "execution_count": 9,
   "metadata": {},
   "outputs": [
    {
     "name": "stdout",
     "output_type": "stream",
     "text": [
      "\n",
      "Latitude: -34.9414\n",
      "\n",
      "Longitude: 111.2794\n"
     ]
    }
   ],
   "source": [
    "# Output lon and lat to the terminal in the\n",
    "# float format\n",
    "lat = float(lat)\n",
    "lon = float(lon)\n",
    "print(\"\\nLatitude: \" + str(lat))\n",
    "print(\"\\nLongitude: \" + str(lon))"
   ]
  },
  {
   "cell_type": "code",
   "execution_count": 10,
   "metadata": {},
   "outputs": [
    {
     "ename": "",
     "evalue": "",
     "output_type": "error",
     "traceback": [
      "\u001b[1;31mThe Kernel crashed while executing code in the current cell or a previous cell. \n",
      "\u001b[1;31mPlease review the code in the cell(s) to identify a possible cause of the failure. \n",
      "\u001b[1;31mClick <a href='https://aka.ms/vscodeJupyterKernelCrash'>here</a> for more info. \n",
      "\u001b[1;31mView Jupyter <a href='command:jupyter.viewOutput'>log</a> for further details."
     ]
    }
   ],
   "source": [
    "# Update the ISS location on the map\n",
    "iss.goto(lon, lat)\n",
    "\n",
    "# Refresh each 5 seconds\n",
    "time.sleep(5)"
   ]
  }
 ],
 "metadata": {
  "kernelspec": {
   "display_name": ".venv",
   "language": "python",
   "name": "python3"
  },
  "language_info": {
   "codemirror_mode": {
    "name": "ipython",
    "version": 3
   },
   "file_extension": ".py",
   "mimetype": "text/x-python",
   "name": "python",
   "nbconvert_exporter": "python",
   "pygments_lexer": "ipython3",
   "version": "3.12.7"
  }
 },
 "nbformat": 4,
 "nbformat_minor": 2
}
